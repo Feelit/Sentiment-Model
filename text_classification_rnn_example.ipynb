{
  "nbformat": 4,
  "nbformat_minor": 0,
  "metadata": {
    "accelerator": "GPU",
    "colab": {
      "name": "text_classification_rnn_example.ipynb",
      "provenance": [],
      "collapsed_sections": [],
      "toc_visible": true,
      "include_colab_link": true
    },
    "kernelspec": {
      "display_name": "Python 3",
      "name": "python3"
    }
  },
  "cells": [
    {
      "cell_type": "markdown",
      "metadata": {
        "id": "view-in-github",
        "colab_type": "text"
      },
      "source": [
        "<a href=\"https://colab.research.google.com/github/Feelit/Sentiment-Model/blob/main/text_classification_rnn_example.ipynb\" target=\"_parent\"><img src=\"https://colab.research.google.com/assets/colab-badge.svg\" alt=\"Open In Colab\"/></a>"
      ]
    },
    {
      "cell_type": "markdown",
      "metadata": {
        "id": "hX4n9TsbGw-f"
      },
      "source": [
        "##### Copyright 2018 The TensorFlow Authors."
      ]
    },
    {
      "cell_type": "code",
      "metadata": {
        "cellView": "form",
        "id": "0nbI5DtDGw-i"
      },
      "source": [
        "#@title Licensed under the Apache License, Version 2.0 (the \"License\");\n",
        "# you may not use this file except in compliance with the License.\n",
        "# You may obtain a copy of the License at\n",
        "#\n",
        "# https://www.apache.org/licenses/LICENSE-2.0\n",
        "#\n",
        "# Unless required by applicable law or agreed to in writing, software\n",
        "# distributed under the License is distributed on an \"AS IS\" BASIS,\n",
        "# WITHOUT WARRANTIES OR CONDITIONS OF ANY KIND, either express or implied.\n",
        "# See the License for the specific language governing permissions and\n",
        "# limitations under the License."
      ],
      "execution_count": null,
      "outputs": []
    },
    {
      "cell_type": "markdown",
      "metadata": {
        "id": "9TnJztDZGw-n"
      },
      "source": [
        "# Text classification with an RNN"
      ]
    },
    {
      "cell_type": "markdown",
      "metadata": {
        "id": "AfN3bMR5Gw-o"
      },
      "source": [
        "<table class=\"tfo-notebook-buttons\" align=\"left\">\n",
        "  <td>\n",
        "    <a target=\"_blank\" href=\"https://www.tensorflow.org/tutorials/text/text_classification_rnn\"><img src=\"https://www.tensorflow.org/images/tf_logo_32px.png\" />View on TensorFlow.org</a>\n",
        "  </td>\n",
        "  <td>\n",
        "    <a target=\"_blank\" href=\"https://colab.research.google.com/github/tensorflow/docs/blob/master/site/en/tutorials/text/text_classification_rnn.ipynb\"><img src=\"https://www.tensorflow.org/images/colab_logo_32px.png\" />Run in Google Colab</a>\n",
        "  </td>\n",
        "  <td>\n",
        "    <a target=\"_blank\" href=\"https://github.com/tensorflow/docs/blob/master/site/en/tutorials/text/text_classification_rnn.ipynb\"><img src=\"https://www.tensorflow.org/images/GitHub-Mark-32px.png\" />View source on GitHub</a>\n",
        "  </td>\n",
        "  <td>\n",
        "    <a href=\"https://storage.googleapis.com/tensorflow_docs/docs/site/en/tutorials/text/text_classification_rnn.ipynb\"><img src=\"https://www.tensorflow.org/images/download_logo_32px.png\" />Download notebook</a>\n",
        "  </td>\n",
        "</table>"
      ]
    },
    {
      "cell_type": "markdown",
      "metadata": {
        "id": "lUWearf0Gw-p"
      },
      "source": [
        "This text classification tutorial trains a [recurrent neural network](https://developers.google.com/machine-learning/glossary/#recurrent_neural_network) on the [IMDB large movie review dataset](http://ai.stanford.edu/~amaas/data/sentiment/) for sentiment analysis."
      ]
    },
    {
      "cell_type": "markdown",
      "metadata": {
        "id": "_2VQo4bajwUU"
      },
      "source": [
        "## Setup"
      ]
    },
    {
      "cell_type": "code",
      "metadata": {
        "id": "vH_FAfIz5dEw"
      },
      "source": [
        "!pip install -q tensorflow_datasets"
      ],
      "execution_count": 1,
      "outputs": []
    },
    {
      "cell_type": "code",
      "metadata": {
        "id": "z682XYsrjkY9"
      },
      "source": [
        "import numpy as np\n",
        "\n",
        "import tensorflow_datasets as tfds\n",
        "import tensorflow as tf\n",
        "\n",
        "tfds.disable_progress_bar()"
      ],
      "execution_count": 2,
      "outputs": []
    },
    {
      "cell_type": "markdown",
      "metadata": {
        "id": "1rXHa-w9JZhb"
      },
      "source": [
        "Import `matplotlib` and create a helper function to plot graphs:"
      ]
    },
    {
      "cell_type": "code",
      "metadata": {
        "id": "Mp1Z7P9pYRSK"
      },
      "source": [
        "import matplotlib.pyplot as plt\n",
        "\n",
        "def plot_graphs(history, metric):\n",
        "  plt.plot(history.history[metric])\n",
        "  plt.plot(history.history['val_'+metric], '')\n",
        "  plt.xlabel(\"Epochs\")\n",
        "  plt.ylabel(metric)\n",
        "  plt.legend([metric, 'val_'+metric])"
      ],
      "execution_count": 3,
      "outputs": []
    },
    {
      "cell_type": "markdown",
      "metadata": {
        "id": "pRmMubr0jrE2"
      },
      "source": [
        "## Setup input pipeline\n",
        "\n",
        "\n",
        "The IMDB large movie review dataset is a *binary classification* dataset—all the reviews have either a *positive* or *negative* sentiment.\n",
        "\n",
        "Download the dataset using [TFDS](https://www.tensorflow.org/datasets). See the [loading text tutorial](../load_data/text.ipynb) for details on how to load this sort of data manually.\n"
      ]
    },
    {
      "cell_type": "code",
      "metadata": {
        "id": "SHRwRoP2nVHX",
        "colab": {
          "base_uri": "https://localhost:8080/"
        },
        "outputId": "8916e263-29cf-44cd-9eee-7815871394d2"
      },
      "source": [
        "dataset, info = tfds.load('imdb_reviews', with_info=True,\n",
        "                          as_supervised=True)\n",
        "train_dataset, test_dataset = dataset['train'], dataset['test']\n",
        "\n",
        "train_dataset.element_spec"
      ],
      "execution_count": 4,
      "outputs": [
        {
          "output_type": "stream",
          "text": [
            "\u001b[1mDownloading and preparing dataset imdb_reviews/plain_text/1.0.0 (download: 80.23 MiB, generated: Unknown size, total: 80.23 MiB) to /root/tensorflow_datasets/imdb_reviews/plain_text/1.0.0...\u001b[0m\n",
            "Shuffling and writing examples to /root/tensorflow_datasets/imdb_reviews/plain_text/1.0.0.incompleteK6WI2H/imdb_reviews-train.tfrecord\n",
            "Shuffling and writing examples to /root/tensorflow_datasets/imdb_reviews/plain_text/1.0.0.incompleteK6WI2H/imdb_reviews-test.tfrecord\n"
          ],
          "name": "stdout"
        },
        {
          "output_type": "stream",
          "text": [
            "WARNING:absl:Dataset is using deprecated text encoder API which will be removed soon. Please use the plain_text version of the dataset and migrate to `tensorflow_text`.\n"
          ],
          "name": "stderr"
        },
        {
          "output_type": "stream",
          "text": [
            "Shuffling and writing examples to /root/tensorflow_datasets/imdb_reviews/plain_text/1.0.0.incompleteK6WI2H/imdb_reviews-unsupervised.tfrecord\n",
            "\u001b[1mDataset imdb_reviews downloaded and prepared to /root/tensorflow_datasets/imdb_reviews/plain_text/1.0.0. Subsequent calls will reuse this data.\u001b[0m\n"
          ],
          "name": "stdout"
        },
        {
          "output_type": "execute_result",
          "data": {
            "text/plain": [
              "(TensorSpec(shape=(), dtype=tf.string, name=None),\n",
              " TensorSpec(shape=(), dtype=tf.int64, name=None))"
            ]
          },
          "metadata": {
            "tags": []
          },
          "execution_count": 4
        }
      ]
    },
    {
      "cell_type": "markdown",
      "metadata": {
        "id": "nWA4c2ir7g6p"
      },
      "source": [
        "Initially this returns a dataset of (text, label pairs):"
      ]
    },
    {
      "cell_type": "code",
      "metadata": {
        "id": "vd4_BGKyurao",
        "colab": {
          "base_uri": "https://localhost:8080/"
        },
        "outputId": "57ae0660-322b-4821-b32d-4a39686ee409"
      },
      "source": [
        "for example, label in train_dataset.take(1):\n",
        "  print('text: ', example.numpy())\n",
        "  print('label: ', label.numpy())"
      ],
      "execution_count": 5,
      "outputs": [
        {
          "output_type": "stream",
          "text": [
            "text:  b\"This was an absolutely terrible movie. Don't be lured in by Christopher Walken or Michael Ironside. Both are great actors, but this must simply be their worst role in history. Even their great acting could not redeem this movie's ridiculous storyline. This movie is an early nineties US propaganda piece. The most pathetic scenes were those when the Columbian rebels were making their cases for revolutions. Maria Conchita Alonso appeared phony, and her pseudo-love affair with Walken was nothing but a pathetic emotional plug in a movie that was devoid of any real meaning. I am disappointed that there are movies like this, ruining actor's like Christopher Walken's good name. I could barely sit through it.\"\n",
            "label:  0\n"
          ],
          "name": "stdout"
        }
      ]
    },
    {
      "cell_type": "markdown",
      "metadata": {
        "id": "z2qVJzcEluH_"
      },
      "source": [
        "Next shuffle the data for training and create batches of these `(text, label)` pairs:"
      ]
    },
    {
      "cell_type": "code",
      "metadata": {
        "id": "dDsCaZCDYZgm"
      },
      "source": [
        "BUFFER_SIZE = 10000\n",
        "BATCH_SIZE = 64"
      ],
      "execution_count": 6,
      "outputs": []
    },
    {
      "cell_type": "code",
      "metadata": {
        "id": "VznrltNOnUc5"
      },
      "source": [
        "train_dataset = train_dataset.shuffle(BUFFER_SIZE).batch(BATCH_SIZE).prefetch(tf.data.experimental.AUTOTUNE)\n",
        "test_dataset = test_dataset.batch(BATCH_SIZE).prefetch(tf.data.experimental.AUTOTUNE)"
      ],
      "execution_count": 7,
      "outputs": []
    },
    {
      "cell_type": "code",
      "metadata": {
        "id": "jqkvdcFv41wC",
        "colab": {
          "base_uri": "https://localhost:8080/"
        },
        "outputId": "3a7b367c-dc04-4133-f257-c82fe7bd93d2"
      },
      "source": [
        "for example, label in train_dataset.take(1):\n",
        "  print('texts: ', example.numpy()[:3])\n",
        "  print()\n",
        "  print('labels: ', label.numpy()[:3])"
      ],
      "execution_count": 8,
      "outputs": [
        {
          "output_type": "stream",
          "text": [
            "texts:  [b'I saw this movie, and the play, and I have to add that this was the most touching story that I had ever seen. Until I saw this movie I was unaware of how awful life was and probably still is for the South African children and adults that were and are living in that era. It brought tears to my eyes and much sadness to my heart that any human being should have to struggle like that just to stay alive, And to bring the children right out of that area and teach them to act and preform and turn them loose to tell their own story is simply amazing. This simply surpass a five star, I rate it a ten. Thank You Mr. Mbongeni Ngema for such a astonishing story. Although it has been 12 years since this story has been told, it is still one that lays heavy in my heart.If there is a VHS, or DVD out there on the play, Please notify me ASAP.Thank You. PS There was nothing wrong with the kids wanting to bring awareness of their problems and conditions to the attention of other countries in hopes that some one would have a heart and offer assistance.'\n",
            " b\"(spoilers??)<br /><br />I wasn't sure what to think of the movie. Not too much of a kids film. Definately should be watched with a parent because it includes death and dying. But I was surprised that I was a bit entertained by it.<br /><br />I was a bit disappointed by the 81 minutes of time we had. (even less without the credits) And the trailer gets you to think the rodent is a main creature. But alas, they torture him. Right until the end of the movie. Those two gripes docked the movie 2 stars. But I do recommend the movie. Even for a sequel.<br /><br />8/10<br /><br />Quality: 9/10 Entertainment: 7/10 Replayable:7/10\"\n",
            " b\"This movie has some of the most awesome cars I've ever seen in a movie, and definitely the hottest women, but I would have to say it is still one of the worst movies I've ever seen.<br /><br />Here is the plot, and if you read it with a little inflection, you have the acting as well.<br /><br />Beginning, bring in characters, hot woman singing (obvious lip sync). Music agent or producer comes in, thinks that she is awesome asks her to race. She turns down, too many bad memories. Flash to war hero, back from war, has several fights, and becomes movie hero with attitude that he is better than everyone. Drive off in fast exotic car. Brother races, then dies. Hero to avenge death, cut away to getting weapons from friend. (You have never seen this friend before or after, but seems to really care about him) Are you sure you want to do this; Yes; I mean are you really sure; Yes, give me weapons; are you REALLY sure; Yes; OK, I guess I can't talk you out of it, be careful man, I love you.<br /><br />Now he goes to blow up his uncles house who owned the car his brother drove. Finds woman, decides to rescue her, She drives off, and he doesn't finish killing his uncle. Now there will be a race to finish the movie. Oh yeah, need to throw in one more scene with bad people coming in to beat up people that don't really matter, but maybe it adds a little plot. Race is not even that exciting, of course it ends with two cars racing, and one that should win throws in a surprise ending.<br /><br />OK, I just saved you $7.00. You can send all of your money to me, because I should have given you the same amount of enjoyment as this movie does. Don't get me wrong, the cars are awesome, and Nadija is beautiful, but it is truly an awful movie.\"]\n",
            "\n",
            "labels:  [1 1 0]\n"
          ],
          "name": "stdout"
        }
      ]
    },
    {
      "cell_type": "markdown",
      "metadata": {
        "id": "s5eWCo88voPY"
      },
      "source": [
        "## Create the text encoder"
      ]
    },
    {
      "cell_type": "markdown",
      "metadata": {
        "id": "TFevcItw15P_"
      },
      "source": [
        "The raw text loaded by `tfds` needs to be processed before it can be used in a model. The simplest way to process text for training is using the `experimental.preprocessing.TextVectorization` layer. This layer has many capabilities, but this tutorial sticks to the default behavior.\n",
        "\n",
        "Create the layer, and pass the dataset's text to the layer's `.adapt` method:"
      ]
    },
    {
      "cell_type": "code",
      "metadata": {
        "id": "uC25Lu1Yvuqy"
      },
      "source": [
        "VOCAB_SIZE=1000\n",
        "encoder = tf.keras.layers.experimental.preprocessing.TextVectorization(\n",
        "    max_tokens=VOCAB_SIZE)\n",
        "encoder.adapt(train_dataset.map(lambda text, label: text))"
      ],
      "execution_count": 9,
      "outputs": []
    },
    {
      "cell_type": "markdown",
      "metadata": {
        "id": "IuQzVBbe3Ldu"
      },
      "source": [
        "The `.adapt` method sets the layer's vocabulary. Here are the first 20 tokens. After the padding and unknown tokens they're sorted by frequency: "
      ]
    },
    {
      "cell_type": "code",
      "metadata": {
        "id": "tBoyjjWg0Ac9",
        "colab": {
          "base_uri": "https://localhost:8080/"
        },
        "outputId": "c81c6d93-d0b0-4d81-8eb3-b53b434f1410"
      },
      "source": [
        "vocab = np.array(encoder.get_vocabulary())\n",
        "vocab[:20]"
      ],
      "execution_count": 11,
      "outputs": [
        {
          "output_type": "execute_result",
          "data": {
            "text/plain": [
              "array(['', '[UNK]', 'the', 'and', 'a', 'of', 'to', 'is', 'in', 'it', 'i',\n",
              "       'this', 'that', 'br', 'was', 'as', 'for', 'with', 'movie', 'but'],\n",
              "      dtype='<U14')"
            ]
          },
          "metadata": {
            "tags": []
          },
          "execution_count": 11
        }
      ]
    },
    {
      "cell_type": "markdown",
      "metadata": {
        "id": "mjId5pua3jHQ"
      },
      "source": [
        "Once the vocabulary is set, the layer can encode text into indices. The tensors of indices are 0-padded to the longest sequence in the batch (unless you set a fixed `output_sequence_length`):"
      ]
    },
    {
      "cell_type": "code",
      "metadata": {
        "id": "RGc7C9WiwRWs",
        "colab": {
          "base_uri": "https://localhost:8080/"
        },
        "outputId": "dbd27110-c0b4-4324-bbbc-527557f2df7e"
      },
      "source": [
        "encoded_example = encoder(example)[:3].numpy()\n",
        "encoded_example"
      ],
      "execution_count": 12,
      "outputs": [
        {
          "output_type": "execute_result",
          "data": {
            "text/plain": [
              "array([[ 10, 208,  11, ...,   0,   0,   0],\n",
              "       [  1,  13,  10, ...,   0,   0,   0],\n",
              "       [ 11,  18,  44, ...,   0,   0,   0]])"
            ]
          },
          "metadata": {
            "tags": []
          },
          "execution_count": 12
        }
      ]
    },
    {
      "cell_type": "markdown",
      "metadata": {
        "id": "F5cjz0bS39IN"
      },
      "source": [
        "With the default settings, the process is not completely reversible. There are three main reasns for that:\n",
        "\n",
        "1. The default value for `preprocessing.TextVectorization`'s `standardize` argument is `\"lower_and_strip_punctuation\"`.\n",
        "2. The limited vocabulary size and lack of character-based fallback results in some unknown tokens."
      ]
    },
    {
      "cell_type": "code",
      "metadata": {
        "id": "N_tD0QY5wXaK",
        "colab": {
          "base_uri": "https://localhost:8080/"
        },
        "outputId": "1e130007-322b-4d7d-fefb-34ea0efebbc3"
      },
      "source": [
        "for n in range(3):\n",
        "  print(\"Original: \", example[n].numpy())\n",
        "  print(\"Round-trip: \", \" \".join(vocab[encoded_example[n]]))\n",
        "  print()"
      ],
      "execution_count": 13,
      "outputs": [
        {
          "output_type": "stream",
          "text": [
            "Original:  b'I saw this movie, and the play, and I have to add that this was the most touching story that I had ever seen. Until I saw this movie I was unaware of how awful life was and probably still is for the South African children and adults that were and are living in that era. It brought tears to my eyes and much sadness to my heart that any human being should have to struggle like that just to stay alive, And to bring the children right out of that area and teach them to act and preform and turn them loose to tell their own story is simply amazing. This simply surpass a five star, I rate it a ten. Thank You Mr. Mbongeni Ngema for such a astonishing story. Although it has been 12 years since this story has been told, it is still one that lays heavy in my heart.If there is a VHS, or DVD out there on the play, Please notify me ASAP.Thank You. PS There was nothing wrong with the kids wanting to bring awareness of their problems and conditions to the attention of other countries in hopes that some one would have a heart and offer assistance.'\n",
            "Round-trip:  i saw this movie and the play and i have to add that this was the most [UNK] story that i had ever seen until i saw this movie i was [UNK] of how awful life was and probably still is for the [UNK] [UNK] children and [UNK] that were and are living in that [UNK] it brought [UNK] to my eyes and much [UNK] to my heart that any human being should have to [UNK] like that just to stay [UNK] and to bring the children right out of that [UNK] and [UNK] them to act and [UNK] and turn them [UNK] to tell their own story is simply amazing this simply [UNK] a five star i [UNK] it a ten [UNK] you mr [UNK] [UNK] for such a [UNK] story although it has been [UNK] years since this story has been told it is still one that [UNK] [UNK] in my [UNK] there is a [UNK] or dvd out there on the play please [UNK] me [UNK] you [UNK] there was nothing wrong with the kids [UNK] to bring [UNK] of their problems and [UNK] to the attention of other [UNK] in [UNK] that some one would have a heart and [UNK] [UNK]                                                                                                                                                                                                                                                                                                                                                                                                                                                                                                                                                                                                                                                                                                                                           \n",
            "\n",
            "Original:  b\"(spoilers??)<br /><br />I wasn't sure what to think of the movie. Not too much of a kids film. Definately should be watched with a parent because it includes death and dying. But I was surprised that I was a bit entertained by it.<br /><br />I was a bit disappointed by the 81 minutes of time we had. (even less without the credits) And the trailer gets you to think the rodent is a main creature. But alas, they torture him. Right until the end of the movie. Those two gripes docked the movie 2 stars. But I do recommend the movie. Even for a sequel.<br /><br />8/10<br /><br />Quality: 9/10 Entertainment: 7/10 Replayable:7/10\"\n",
            "Round-trip:  [UNK] br i wasnt sure what to think of the movie not too much of a kids film [UNK] should be watched with a [UNK] because it [UNK] death and [UNK] but i was surprised that i was a bit [UNK] by itbr br i was a bit disappointed by the [UNK] minutes of time we had even less without the credits and the [UNK] gets you to think the [UNK] is a main [UNK] but [UNK] they [UNK] him right until the end of the movie those two [UNK] [UNK] the movie 2 stars but i do recommend the movie even for a [UNK] br [UNK] br quality [UNK] entertainment [UNK] [UNK]                                                                                                                                                                                                                                                                                                                                                                                                                                                                                                                                                                                                                                                                                                                                                                                                                                       \n",
            "\n",
            "Original:  b\"This movie has some of the most awesome cars I've ever seen in a movie, and definitely the hottest women, but I would have to say it is still one of the worst movies I've ever seen.<br /><br />Here is the plot, and if you read it with a little inflection, you have the acting as well.<br /><br />Beginning, bring in characters, hot woman singing (obvious lip sync). Music agent or producer comes in, thinks that she is awesome asks her to race. She turns down, too many bad memories. Flash to war hero, back from war, has several fights, and becomes movie hero with attitude that he is better than everyone. Drive off in fast exotic car. Brother races, then dies. Hero to avenge death, cut away to getting weapons from friend. (You have never seen this friend before or after, but seems to really care about him) Are you sure you want to do this; Yes; I mean are you really sure; Yes, give me weapons; are you REALLY sure; Yes; OK, I guess I can't talk you out of it, be careful man, I love you.<br /><br />Now he goes to blow up his uncles house who owned the car his brother drove. Finds woman, decides to rescue her, She drives off, and he doesn't finish killing his uncle. Now there will be a race to finish the movie. Oh yeah, need to throw in one more scene with bad people coming in to beat up people that don't really matter, but maybe it adds a little plot. Race is not even that exciting, of course it ends with two cars racing, and one that should win throws in a surprise ending.<br /><br />OK, I just saved you $7.00. You can send all of your money to me, because I should have given you the same amount of enjoyment as this movie does. Don't get me wrong, the cars are awesome, and Nadija is beautiful, but it is truly an awful movie.\"\n",
            "Round-trip:  this movie has some of the most [UNK] [UNK] ive ever seen in a movie and definitely the [UNK] women but i would have to say it is still one of the worst movies ive ever [UNK] br here is the plot and if you read it with a little [UNK] you have the acting as [UNK] br beginning bring in characters hot woman [UNK] obvious [UNK] [UNK] music [UNK] or [UNK] comes in [UNK] that she is [UNK] [UNK] her to [UNK] she turns down too many bad [UNK] [UNK] to war hero back from war has several [UNK] and becomes movie hero with [UNK] that he is better than everyone [UNK] off in fast [UNK] car brother [UNK] then [UNK] hero to [UNK] death cut away to getting [UNK] from friend you have never seen this friend before or after but seems to really care about him are you sure you want to do this yes i mean are you really sure yes give me [UNK] are you really sure yes ok i guess i cant talk you out of it be [UNK] man i love [UNK] br now he goes to [UNK] up his [UNK] house who [UNK] the car his brother [UNK] finds woman [UNK] to [UNK] her she [UNK] off and he doesnt [UNK] killing his [UNK] now there will be a [UNK] to [UNK] the movie oh [UNK] need to [UNK] in one more scene with bad people coming in to [UNK] up people that dont really matter but maybe it [UNK] a little plot [UNK] is not even that [UNK] of course it ends with two [UNK] [UNK] and one that should [UNK] [UNK] in a surprise [UNK] br ok i just [UNK] you [UNK] you can [UNK] all of your money to me because i should have given you the same [UNK] of [UNK] as this movie does dont get me wrong the [UNK] are [UNK] and [UNK] is beautiful but it is truly an awful movie                                                                                                                                                                                                                                                                                                                                                                                                                                                                                                                                                                                                         \n",
            "\n"
          ],
          "name": "stdout"
        }
      ]
    },
    {
      "cell_type": "markdown",
      "metadata": {
        "id": "bjUqGVBxGw-t"
      },
      "source": [
        "## Create the model"
      ]
    },
    {
      "cell_type": "markdown",
      "metadata": {
        "id": "W7zsmInBOCPO"
      },
      "source": [
        "![A drawing of the information flow in the model](https://github.com/tensorflow/docs/blob/master/site/en/tutorials/text/images/bidirectional.png?raw=1)"
      ]
    },
    {
      "cell_type": "markdown",
      "metadata": {
        "id": "bgs6nnSTGw-t"
      },
      "source": [
        "Above is a diagram of the model. \n",
        "\n",
        "1. This model can be build as a `tf.keras.Sequential`.\n",
        "\n",
        "1. The first layer is the `encoder`, which converts the text to a sequence of token indices.\n",
        "\n",
        "2. After the encoder is an embedding layer. An embedding layer stores one vector per word. When called, it converts the sequences of word indices to sequences of vectors. These vectors are trainable. After training (on enough data), words with similar meanings often have similar vectors.\n",
        "\n",
        "  This index-lookup is much more efficient than the equivalent operation of passing a one-hot encoded vector through a `tf.keras.layers.Dense` layer.\n",
        "\n",
        "3. A recurrent neural network (RNN) processes sequence input by iterating through the elements. RNNs pass the outputs from one timestep to their input on the next timestep.\n",
        "\n",
        "  The `tf.keras.layers.Bidirectional` wrapper can also be used with an RNN layer. This propagates the input forward and backwards through the RNN layer and then concatenates the final output. \n",
        "\n",
        "  * The main advantage to a bidirectional RNN is that the signal from the beginning of the input doesn't need to be processed all the way through every timestep to affect the output.  \n",
        "\n",
        "  * The main disadvantage of a bidirectional RNN is that you can't efficiently stream predictions as words are being added to the end.\n",
        "\n",
        "1. After the RNN has converted the sequence to a single vector the two `layers.Dense` do some final processing, and convert from this vector representation to a single logit as the classification output. \n"
      ]
    },
    {
      "cell_type": "markdown",
      "metadata": {
        "id": "V4fodCI7soQi"
      },
      "source": [
        "The code to implement this is below:"
      ]
    },
    {
      "cell_type": "code",
      "metadata": {
        "id": "LwfoBkmRYcP3"
      },
      "source": [
        "model = tf.keras.Sequential([\n",
        "    encoder,\n",
        "    tf.keras.layers.Embedding(\n",
        "        input_dim=len(encoder.get_vocabulary()),\n",
        "        output_dim=64,\n",
        "        # Use masking to handle the variable sequence lengths\n",
        "        mask_zero=True),\n",
        "    tf.keras.layers.Bidirectional(tf.keras.layers.LSTM(64)),\n",
        "    tf.keras.layers.Dense(64, activation='relu'),\n",
        "    tf.keras.layers.Dense(1)\n",
        "])"
      ],
      "execution_count": 14,
      "outputs": []
    },
    {
      "cell_type": "markdown",
      "metadata": {
        "id": "QIGmIGkkouUb"
      },
      "source": [
        "Please note that Keras sequential model is used here since all the layers in the model only have single input and produce single output. In case you want to use stateful RNN layer, you might want to build your model with Keras functional API or model subclassing so that you can retrieve and reuse the RNN layer states. Please check [Keras RNN guide](https://www.tensorflow.org/guide/keras/rnn#rnn_state_reuse) for more details."
      ]
    },
    {
      "cell_type": "markdown",
      "metadata": {
        "id": "kF-PsCk1LwjY"
      },
      "source": [
        "The embedding layer [uses masking](../../guide/keras/masking_and_padding) to handle the varying sequence-lengths. All the layers after the `Embedding` support masking:"
      ]
    },
    {
      "cell_type": "code",
      "metadata": {
        "id": "87a8-CwfKebw",
        "colab": {
          "base_uri": "https://localhost:8080/"
        },
        "outputId": "7715cfc7-d746-4ad4-ede8-bb328f126055"
      },
      "source": [
        "print([layer.supports_masking for layer in model.layers])"
      ],
      "execution_count": 15,
      "outputs": [
        {
          "output_type": "stream",
          "text": [
            "[False, True, True, True, True]\n"
          ],
          "name": "stdout"
        }
      ]
    },
    {
      "cell_type": "markdown",
      "metadata": {
        "id": "ZlS0iaUIWLpI"
      },
      "source": [
        "To confirm that this works as expected, evaluate a sentence twice. First, alone so there's no padding to mask:"
      ]
    },
    {
      "cell_type": "code",
      "metadata": {
        "id": "O41gw3KfWHus",
        "colab": {
          "base_uri": "https://localhost:8080/"
        },
        "outputId": "3a5901f2-1a57-4470-dafb-beeb5b8aac05"
      },
      "source": [
        "# predict on a sample text without padding.\n",
        "\n",
        "sample_text = ('The movie was cool. The animation and the graphics '\n",
        "               'were out of this world. I would recommend this movie.')\n",
        "predictions = model.predict(np.array([sample_text]))\n",
        "print(predictions[0])"
      ],
      "execution_count": 16,
      "outputs": [
        {
          "output_type": "stream",
          "text": [
            "[-0.00190062]\n"
          ],
          "name": "stdout"
        }
      ]
    },
    {
      "cell_type": "markdown",
      "metadata": {
        "id": "K0VQmGnEWcuz"
      },
      "source": [
        "Now, evaluate it again in a batch with a longer sentence. The result should be identical:"
      ]
    },
    {
      "cell_type": "code",
      "metadata": {
        "id": "UIgpuTeFNDzq",
        "colab": {
          "base_uri": "https://localhost:8080/"
        },
        "outputId": "3544d521-763c-4258-b49b-b63184cf26a5"
      },
      "source": [
        "# predict on a sample text with padding\n",
        "\n",
        "padding = \"the \" * 2000\n",
        "predictions = model.predict(np.array([sample_text, padding]))\n",
        "print(predictions[0])"
      ],
      "execution_count": 17,
      "outputs": [
        {
          "output_type": "stream",
          "text": [
            "[-0.00190062]\n"
          ],
          "name": "stdout"
        }
      ]
    },
    {
      "cell_type": "markdown",
      "metadata": {
        "id": "sRI776ZcH3Tf"
      },
      "source": [
        "Compile the Keras model to configure the training process:"
      ]
    },
    {
      "cell_type": "code",
      "metadata": {
        "id": "kj2xei41YZjC"
      },
      "source": [
        "model.compile(loss=tf.keras.losses.BinaryCrossentropy(from_logits=True),\n",
        "              optimizer=tf.keras.optimizers.Adam(1e-4),\n",
        "              metrics=['accuracy'])"
      ],
      "execution_count": 18,
      "outputs": []
    },
    {
      "cell_type": "markdown",
      "metadata": {
        "id": "zIwH3nto596k"
      },
      "source": [
        "## Train the model"
      ]
    },
    {
      "cell_type": "code",
      "metadata": {
        "id": "hw86wWS4YgR2",
        "colab": {
          "base_uri": "https://localhost:8080/"
        },
        "outputId": "f4daa176-cbaf-4d4f-a521-e846ef744a86"
      },
      "source": [
        "history = model.fit(train_dataset, epochs=10,\n",
        "                    validation_data=test_dataset, \n",
        "                    validation_steps=30)"
      ],
      "execution_count": 19,
      "outputs": [
        {
          "output_type": "stream",
          "text": [
            "Epoch 1/10\n",
            "391/391 [==============================] - 33s 85ms/step - loss: 0.6378 - accuracy: 0.5791 - val_loss: 0.5276 - val_accuracy: 0.7880\n",
            "Epoch 2/10\n",
            "391/391 [==============================] - 31s 80ms/step - loss: 0.4142 - accuracy: 0.8102 - val_loss: 0.3947 - val_accuracy: 0.8344\n",
            "Epoch 3/10\n",
            "391/391 [==============================] - 31s 80ms/step - loss: 0.3533 - accuracy: 0.8479 - val_loss: 0.3452 - val_accuracy: 0.8562\n",
            "Epoch 4/10\n",
            "391/391 [==============================] - 31s 80ms/step - loss: 0.3249 - accuracy: 0.8617 - val_loss: 0.3467 - val_accuracy: 0.8385\n",
            "Epoch 5/10\n",
            "391/391 [==============================] - 31s 80ms/step - loss: 0.3136 - accuracy: 0.8681 - val_loss: 0.3318 - val_accuracy: 0.8510\n",
            "Epoch 6/10\n",
            "391/391 [==============================] - 30s 78ms/step - loss: 0.3076 - accuracy: 0.8690 - val_loss: 0.3262 - val_accuracy: 0.8526\n",
            "Epoch 7/10\n",
            "391/391 [==============================] - 30s 77ms/step - loss: 0.3027 - accuracy: 0.8727 - val_loss: 0.3334 - val_accuracy: 0.8495\n",
            "Epoch 8/10\n",
            "391/391 [==============================] - 30s 77ms/step - loss: 0.3002 - accuracy: 0.8746 - val_loss: 0.3306 - val_accuracy: 0.8609\n",
            "Epoch 9/10\n",
            "391/391 [==============================] - 30s 77ms/step - loss: 0.2985 - accuracy: 0.8742 - val_loss: 0.3261 - val_accuracy: 0.8615\n",
            "Epoch 10/10\n",
            "391/391 [==============================] - 30s 77ms/step - loss: 0.2961 - accuracy: 0.8750 - val_loss: 0.3247 - val_accuracy: 0.8594\n"
          ],
          "name": "stdout"
        }
      ]
    },
    {
      "cell_type": "code",
      "metadata": {
        "id": "BaNbXi43YgUT"
      },
      "source": [
        "test_loss, test_acc = model.evaluate(test_dataset)\n",
        "\n",
        "print('Test Loss: {}'.format(test_loss))\n",
        "print('Test Accuracy: {}'.format(test_acc))"
      ],
      "execution_count": null,
      "outputs": []
    },
    {
      "cell_type": "code",
      "metadata": {
        "id": "OZmwt_mzaQJk"
      },
      "source": [
        "plt.figure(figsize=(16,8))\n",
        "plt.subplot(1,2,1)\n",
        "plot_graphs(history, 'accuracy')\n",
        "plt.ylim(None,1)\n",
        "plt.subplot(1,2,2)\n",
        "plot_graphs(history, 'loss')\n",
        "plt.ylim(0,None)"
      ],
      "execution_count": null,
      "outputs": []
    },
    {
      "cell_type": "markdown",
      "metadata": {
        "id": "DwSE_386uhxD"
      },
      "source": [
        "Run a prediction on a neew sentence:\n",
        "\n",
        "If the prediction is >= 0.0, it is positive else it is negative."
      ]
    },
    {
      "cell_type": "code",
      "metadata": {
        "id": "ZXgfQSgRW6zU"
      },
      "source": [
        "sample_text = ('The movie was cool. The animation and the graphics '\n",
        "               'were out of this world. I would recommend this movie.')\n",
        "predictions = model.predict(np.array([sample_text]))"
      ],
      "execution_count": null,
      "outputs": []
    },
    {
      "cell_type": "markdown",
      "metadata": {
        "id": "7g1evcaRpTKm"
      },
      "source": [
        "## Stack two or more LSTM layers\n",
        "\n",
        "Keras recurrent layers have two available modes that are controlled by the `return_sequences` constructor argument:\n",
        "\n",
        "* If `False` it returns only the last output for each input sequence (a 2D tensor of shape (batch_size, output_features)). This is the default, used in the previous model.\n",
        "\n",
        "* If `True` the full sequences of successive outputs for each timestep is returned (a 3D tensor of shape `(batch_size, timesteps, output_features)`).\n",
        "\n",
        "Here is what the flow of information looks like with `return_sequences=True`:\n",
        "\n",
        "![layered_bidirectional](https://github.com/tensorflow/docs/blob/master/site/en/tutorials/text/images/layered_bidirectional.ipynb?raw=1)"
      ]
    },
    {
      "cell_type": "markdown",
      "metadata": {
        "id": "wbSClCrG1z8l"
      },
      "source": [
        "The interesting thing about using an `RNN` with `return_sequences=True` is that the output still has 3-axes, like the input, so it can be passed to another RNN layer, like this:"
      ]
    },
    {
      "cell_type": "code",
      "metadata": {
        "id": "jo1jjO3vn0jo"
      },
      "source": [
        "model = tf.keras.Sequential([\n",
        "    encoder,\n",
        "    tf.keras.layers.Embedding(len(encoder.get_vocabulary()), 64, mask_zero=True),\n",
        "    tf.keras.layers.Bidirectional(tf.keras.layers.LSTM(64,  return_sequences=True)),\n",
        "    tf.keras.layers.Bidirectional(tf.keras.layers.LSTM(32)),\n",
        "    tf.keras.layers.Dense(64, activation='relu'),\n",
        "    tf.keras.layers.Dropout(0.5),\n",
        "    tf.keras.layers.Dense(1)\n",
        "])"
      ],
      "execution_count": null,
      "outputs": []
    },
    {
      "cell_type": "code",
      "metadata": {
        "id": "hEPV5jVGp-is"
      },
      "source": [
        "model.compile(loss=tf.keras.losses.BinaryCrossentropy(from_logits=True),\n",
        "              optimizer=tf.keras.optimizers.Adam(1e-4),\n",
        "              metrics=['accuracy'])"
      ],
      "execution_count": null,
      "outputs": []
    },
    {
      "cell_type": "code",
      "metadata": {
        "id": "LeSE-YjdqAeN"
      },
      "source": [
        "history = model.fit(train_dataset, epochs=10,\n",
        "                    validation_data=test_dataset,\n",
        "                    validation_steps=30)"
      ],
      "execution_count": null,
      "outputs": []
    },
    {
      "cell_type": "code",
      "metadata": {
        "id": "_LdwilM1qPM3"
      },
      "source": [
        "test_loss, test_acc = model.evaluate(test_dataset)\n",
        "\n",
        "print('Test Loss: {}'.format(test_loss))\n",
        "print('Test Accuracy: {}'.format(test_acc))"
      ],
      "execution_count": null,
      "outputs": []
    },
    {
      "cell_type": "code",
      "metadata": {
        "id": "ykUKnAoqbycW"
      },
      "source": [
        "# predict on a sample text without padding.\n",
        "\n",
        "sample_text = ('The movie was not good. The animation and the graphics '\n",
        "                    'were terrible. I would not recommend this movie.')\n",
        "predictions = model.predict(np.array([sample_text]))\n",
        "print(predictions)"
      ],
      "execution_count": null,
      "outputs": []
    },
    {
      "cell_type": "code",
      "metadata": {
        "id": "_YYub0EDtwCu"
      },
      "source": [
        "plt.figure(figsize=(16,6))\n",
        "plt.subplot(1,2,1)\n",
        "plot_graphs(history, 'accuracy')\n",
        "plt.subplot(1,2,2)\n",
        "plot_graphs(history, 'loss')"
      ],
      "execution_count": null,
      "outputs": []
    },
    {
      "cell_type": "markdown",
      "metadata": {
        "id": "9xvpE3BaGw_V"
      },
      "source": [
        "Check out other existing recurrent layers such as [GRU layers](https://www.tensorflow.org/api_docs/python/tf/keras/layers/GRU).\n",
        "\n",
        "If you're interestied in building custom RNNs, see the [Keras RNN Guide](../../guide/keras/rnn.ipynb).\n"
      ]
    }
  ]
}